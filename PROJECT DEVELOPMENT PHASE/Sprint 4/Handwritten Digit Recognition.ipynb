{
 "cells": [
  {
   "cell_type": "code",
   "execution_count": 3,
   "id": "12c583bd",
   "metadata": {},
   "outputs": [
    {
     "name": "stderr",
     "output_type": "stream",
     "text": [
      "2022-11-19 23:01:06.210802: I tensorflow/core/platform/cpu_feature_guard.cc:193] This TensorFlow binary is optimized with oneAPI Deep Neural Network Library (oneDNN) to use the following CPU instructions in performance-critical operations:  AVX2 FMA\n",
      "To enable them in other operations, rebuild TensorFlow with the appropriate compiler flags.\n"
     ]
    }
   ],
   "source": [
    "from keras.datasets import mnist\n",
    "import matplotlib.pyplot as plt  \n",
    "from keras.utils import np_utils\n",
    "from tensorflow.keras.models import Sequential\n",
    "from tensorflow.keras.layers import Conv2D,Dense,Flatten\n",
    "from tensorflow.keras.optimizers import Adam"
   ]
  },
  {
   "cell_type": "code",
   "execution_count": 4,
   "id": "12d69e18",
   "metadata": {},
   "outputs": [
    {
     "name": "stdout",
     "output_type": "stream",
     "text": [
      "(60000, 28, 28)\n",
      "(10000, 28, 28)\n",
      "(10000,)\n",
      "(60000,)\n"
     ]
    }
   ],
   "source": [
    "(X_train,y_train),(X_test,y_test) =mnist.load_data()\n",
    "print(X_train.shape)\n",
    "print(X_test.shape)\n",
    "print(y_test.shape)\n",
    "print(y_train.shape)"
   ]
  },
  {
   "cell_type": "code",
   "execution_count": 5,
   "id": "c72bfeaa",
   "metadata": {},
   "outputs": [
    {
     "name": "stdout",
     "output_type": "stream",
     "text": [
      "The label value is  0\n"
     ]
    },
    {
     "data": {
      "text/plain": [
       "<matplotlib.image.AxesImage at 0x7f8f33c95520>"
      ]
     },
     "execution_count": 5,
     "metadata": {},
     "output_type": "execute_result"
    },
    {
     "data": {
      "image/png": "[encoded data removed]",
      "text/plain": [
       "<Figure size 640x480 with 1 Axes>"
      ]
     },
     "metadata": {},
     "output_type": "display_data"
    }
   ],
   "source": [
    "print(\"The label value is \",y_test[10]) #Value in y_test \n",
    "plt.imshow(X_test[10])"
   ]
  },
  {
   "cell_type": "code",
   "execution_count": 6,
   "id": "cb8923df",
   "metadata": {},
   "outputs": [
    {
     "name": "stdout",
     "output_type": "stream",
     "text": [
      "The label value is  6\n"
     ]
    },
    {
     "data": {
      "text/plain": [
       "<matplotlib.image.AxesImage at 0x7f8f34ab2130>"
      ]
     },
     "execution_count": 6,
     "metadata": {},
     "output_type": "execute_result"
    },
    {
     "data": {
      "image/png": "[encoded data removed]",
      "text/plain": [
       "<Figure size 640x480 with 1 Axes>"
      ]
     },
     "metadata": {},
     "output_type": "display_data"
    }
   ],
   "source": [
    "print(\"The label value is \",y_test[100]) #Value in y_test \n",
    "plt.imshow(X_test[100])"
   ]
  },
  {
   "cell_type": "code",
   "execution_count": 7,
   "id": "52f999df",
   "metadata": {},
   "outputs": [
    {
     "name": "stdout",
     "output_type": "stream",
     "text": [
      "The label value is  4\n"
     ]
    },
    {
     "data": {
      "text/plain": [
       "<matplotlib.image.AxesImage at 0x7f8f34af4580>"
      ]
     },
     "execution_count": 7,
     "metadata": {},
     "output_type": "execute_result"
    },
    {
     "data": {
      "image/png": "[encoded data removed]",
      "text/plain": [
       "<Figure size 640x480 with 1 Axes>"
      ]
     },
     "metadata": {},
     "output_type": "display_data"
    }
   ],
   "source": [
    "print(\"The label value is \",y_test[65]) #Value in y_test \n",
    "plt.imshow(X_test[65])"
   ]
  },
  {
   "cell_type": "code",
   "execution_count": 8,
   "id": "2f95b4ac",
   "metadata": {},
   "outputs": [
    {
     "data": {
      "text/plain": [
       "(60000, 28, 28)"
      ]
     },
     "execution_count": 8,
     "metadata": {},
     "output_type": "execute_result"
    }
   ],
   "source": [
    "X_train.shape"
   ]
  },
  {
   "cell_type": "code",
   "execution_count": 9,
   "id": "54b496aa",
   "metadata": {},
   "outputs": [
    {
     "data": {
      "text/plain": [
       "(10000, 28, 28)"
      ]
     },
     "execution_count": 9,
     "metadata": {},
     "output_type": "execute_result"
    }
   ],
   "source": [
    "X_test.shape"
   ]
  },
  {
   "cell_type": "code",
   "execution_count": 10,
   "id": "689ef375",
   "metadata": {},
   "outputs": [],
   "source": [
    "X_train1 = X_train.reshape(60000, 28, 28, 1).astype('float32')\n",
    "\n",
    "X_test1 = X_test.reshape(10000, 28, 28, 1).astype('float32')"
   ]
  },
  {
   "cell_type": "code",
   "execution_count": 11,
   "id": "d5bdcf8b",
   "metadata": {},
   "outputs": [],
   "source": [
    "number_of_classes= 10\n",
    "y_train1 = np_utils.to_categorical(y_train,number_of_classes)\n",
    "y_test1 = np_utils.to_categorical(y_test,number_of_classes)"
   ]
  },
  {
   "cell_type": "code",
   "execution_count": 12,
   "id": "33974543",
   "metadata": {},
   "outputs": [
    {
     "name": "stdout",
     "output_type": "stream",
     "text": [
      "After encoding the value 0 become [1. 0. 0. 0. 0. 0. 0. 0. 0. 0.]\n"
     ]
    }
   ],
   "source": [
    "print(\"After encoding the value\",y_test[10] ,\"become\", y_test1[10])"
   ]
  },
  {
   "cell_type": "code",
   "execution_count": 13,
   "id": "eeb3a846",
   "metadata": {},
   "outputs": [
    {
     "name": "stdout",
     "output_type": "stream",
     "text": [
      "After encoding the value 6 become [0. 0. 0. 0. 0. 0. 1. 0. 0. 0.]\n"
     ]
    }
   ],
   "source": [
    "print(\"After encoding the value\",y_test[100] ,\"become\", y_test1[100])"
   ]
  },
  {
   "cell_type": "code",
   "execution_count": 14,
   "id": "5aa4887b",
   "metadata": {},
   "outputs": [
    {
     "name": "stdout",
     "output_type": "stream",
     "text": [
      "After encoding the value 4 become [0. 0. 0. 0. 1. 0. 0. 0. 0. 0.]\n"
     ]
    }
   ],
   "source": [
    "print(\"After encoding the value\",y_test[65] ,\"become\", y_test1[65])"
   ]
  },
  {
   "cell_type": "code",
   "execution_count": 15,
   "id": "a8f40eeb",
   "metadata": {},
   "outputs": [
    {
     "name": "stderr",
     "output_type": "stream",
     "text": [
      "2022-11-19 23:01:34.545228: I tensorflow/core/platform/cpu_feature_guard.cc:193] This TensorFlow binary is optimized with oneAPI Deep Neural Network Library (oneDNN) to use the following CPU instructions in performance-critical operations:  AVX2 FMA\n",
      "To enable them in other operations, rebuild TensorFlow with the appropriate compiler flags.\n"
     ]
    }
   ],
   "source": [
    "model = Sequential()\n",
    "model.add(Conv2D(64, (3, 3), input_shape=(28, 28, 1), activation=\"relu\"))\n",
    "model.add(Conv2D(32, (3, 3), activation=\"relu\"))\n",
    "model.add(Flatten())\n",
    "model.add(Dense(number_of_classes, activation=\"softmax\"))"
   ]
  },
  {
   "cell_type": "code",
   "execution_count": 16,
   "id": "87be77f8",
   "metadata": {},
   "outputs": [],
   "source": [
    "model.compile(loss='categorical_crossentropy', optimizer=\"Adam\", metrics=[\"accuracy\"])"
   ]
  },
  {
   "cell_type": "code",
   "execution_count": 17,
   "id": "87e003b7",
   "metadata": {},
   "outputs": [
    {
     "name": "stdout",
     "output_type": "stream",
     "text": [
      "Epoch 1/10\n",
      "1875/1875 [==============================] - 128s 68ms/step - loss: 0.2199 - accuracy: 0.9519 - val_loss: 0.0941 - val_accuracy: 0.9692\n",
      "Epoch 2/10\n",
      "1875/1875 [==============================] - 165s 88ms/step - loss: 0.0675 - accuracy: 0.9800 - val_loss: 0.0729 - val_accuracy: 0.9789\n",
      "Epoch 3/10\n",
      "1875/1875 [==============================] - 138s 74ms/step - loss: 0.0462 - accuracy: 0.9857 - val_loss: 0.0897 - val_accuracy: 0.9752\n",
      "Epoch 4/10\n",
      "1875/1875 [==============================] - 116s 62ms/step - loss: 0.0351 - accuracy: 0.9895 - val_loss: 0.0906 - val_accuracy: 0.9778\n",
      "Epoch 5/10\n",
      "1875/1875 [==============================] - 123s 66ms/step - loss: 0.0287 - accuracy: 0.9912 - val_loss: 0.1013 - val_accuracy: 0.9775\n",
      "Epoch 6/10\n",
      "1875/1875 [==============================] - 120s 64ms/step - loss: 0.0218 - accuracy: 0.9933 - val_loss: 0.1290 - val_accuracy: 0.9796\n",
      "Epoch 7/10\n",
      "1875/1875 [==============================] - 144s 77ms/step - loss: 0.0218 - accuracy: 0.9938 - val_loss: 0.1592 - val_accuracy: 0.9763\n",
      "Epoch 8/10\n",
      "1875/1875 [==============================] - 154s 82ms/step - loss: 0.0196 - accuracy: 0.9953 - val_loss: 0.1425 - val_accuracy: 0.9789\n",
      "Epoch 9/10\n",
      "1875/1875 [==============================] - 154s 82ms/step - loss: 0.0182 - accuracy: 0.9951 - val_loss: 0.1608 - val_accuracy: 0.9777\n",
      "Epoch 10/10\n",
      "1875/1875 [==============================] - 158s 84ms/step - loss: 0.0179 - accuracy: 0.9955 - val_loss: 0.1853 - val_accuracy: 0.9786\n"
     ]
    },
    {
     "data": {
      "text/plain": [
       "<keras.callbacks.History at 0x7f8f23198ac0>"
      ]
     },
     "execution_count": 17,
     "metadata": {},
     "output_type": "execute_result"
    }
   ],
   "source": [
    "model.fit(X_train1, y_train1, batch_size=32, epochs=10, validation_data=(X_test1,y_test1))"
   ]
  },
  {
   "cell_type": "code",
   "execution_count": 20,
   "id": "ab3789c0",
   "metadata": {},
   "outputs": [
    {
     "name": "stdout",
     "output_type": "stream",
     "text": [
      "Metrics (Test Loss & Test Accuracy): \n",
      "[0.18527460098266602, 0.978600025177002]\n"
     ]
    }
   ],
   "source": [
    "metrics = model.evaluate(X_test1, y_test1, verbose=0)\n",
    "print(\"Metrics (Test Loss & Test Accuracy): \")\n",
    "print(metrics)"
   ]
  },
  {
   "cell_type": "code",
   "execution_count": 21,
   "id": "aa6e7aea",
   "metadata": {},
   "outputs": [
    {
     "name": "stdout",
     "output_type": "stream",
     "text": [
      "1/1 [==============================] - 0s 214ms/step\n",
      "[[5.6537705e-30 1.7078787e-29 3.7912413e-18 1.5945367e-15 3.0458845e-32\n",
      "  1.4533778e-29 1.0550475e-36 1.0000000e+00 6.1975852e-26 1.0890616e-21]\n",
      " [9.9327593e-28 1.8374400e-27 1.0000000e+00 1.8238443e-26 2.6871108e-33\n",
      "  0.0000000e+00 3.5422185e-19 0.0000000e+00 6.6041357e-21 4.2143822e-38]\n",
      " [1.8802779e-16 1.0000000e+00 9.5115662e-18 4.6679399e-23 1.1235284e-15\n",
      "  1.1163128e-15 5.2002084e-19 5.7109758e-22 9.0139680e-13 4.1221714e-26]\n",
      " [1.0000000e+00 2.3704429e-27 2.8971922e-18 1.5362263e-30 4.4204947e-23\n",
      "  1.3150449e-18 5.5748338e-21 1.2710246e-28 1.1449631e-22 1.4779471e-18]]\n"
     ]
    }
   ],
   "source": [
    "prediction = model.predict(X_test1[:4])\n",
    "print(prediction)"
   ]
  },
  {
   "cell_type": "code",
   "execution_count": 22,
   "id": "1c4a8308",
   "metadata": {},
   "outputs": [
    {
     "name": "stdout",
     "output_type": "stream",
     "text": [
      "[7 2 1 0]\n",
      "[[0. 0. 0. 0. 0. 0. 0. 1. 0. 0.]\n",
      " [0. 0. 1. 0. 0. 0. 0. 0. 0. 0.]\n",
      " [0. 1. 0. 0. 0. 0. 0. 0. 0. 0.]\n",
      " [1. 0. 0. 0. 0. 0. 0. 0. 0. 0.]]\n"
     ]
    }
   ],
   "source": [
    "import numpy as np\n",
    "print(np.argmax(prediction, axis=1))\n",
    "print(y_test1[:4])"
   ]
  },
  {
   "cell_type": "code",
   "execution_count": 23,
   "id": "98cac257",
   "metadata": {},
   "outputs": [],
   "source": [
    "model.save(\"digit.h5\")"
   ]
  },
  {
   "cell_type": "code",
   "execution_count": 24,
   "id": "e6d96d2c",
   "metadata": {},
   "outputs": [],
   "source": [
    "from tensorflow.keras.models import load_model\n",
    "model=load_model(\"digit.h5\")"
   ]
  },
  {
   "cell_type": "code",
   "execution_count": 25,
   "id": "0509e097",
   "metadata": {},
   "outputs": [
    {
     "name": "stdout",
     "output_type": "stream",
     "text": [
      "Model: \"sequential\"\n",
      "_________________________________________________________________\n",
      " Layer (type)                Output Shape              Param #   \n",
      "=================================================================\n",
      " conv2d (Conv2D)             (None, 26, 26, 64)        640       \n",
      "                                                                 \n",
      " conv2d_1 (Conv2D)           (None, 24, 24, 32)        18464     \n",
      "                                                                 \n",
      " flatten (Flatten)           (None, 18432)             0         \n",
      "                                                                 \n",
      " dense (Dense)               (None, 10)                184330    \n",
      "                                                                 \n",
      "=================================================================\n",
      "Total params: 203,434\n",
      "Trainable params: 203,434\n",
      "Non-trainable params: 0\n",
      "_________________________________________________________________\n"
     ]
    }
   ],
   "source": [
    "model.summary()"
   ]
  },
  {
   "cell_type": "code",
   "execution_count": 26,
   "id": "2207f100",
   "metadata": {},
   "outputs": [
    {
     "name": "stdout",
     "output_type": "stream",
     "text": [
      "a digit.h5\n"
     ]
    }
   ],
   "source": [
    "# Saving in tar\n",
    "\n",
    "!tar -zcvf digit_recognition.tgz digit.h5"
   ]
  },
  {
   "cell_type": "code",
   "execution_count": 27,
   "id": "a2073ebc",
   "metadata": {},
   "outputs": [
    {
     "name": "stdout",
     "output_type": "stream",
     "text": [
      "Collecting watson-machine-learning-client\n",
      "  Downloading watson_machine_learning_client-1.0.391-py3-none-any.whl (538 kB)\n",
      "\u001b[2K     \u001b[90m━━━━━━━━━━━━━━━━━━━━━━━━━━━━━━━━━━━━━━━\u001b[0m \u001b[32m538.9/538.9 kB\u001b[0m \u001b[31m1.1 MB/s\u001b[0m eta \u001b[36m0:00:00\u001b[0m00:01\u001b[0m00:01\u001b[0m\n",
      "\u001b[?25hRequirement already satisfied: urllib3 in /Applications/anaconda3/lib/python3.9/site-packages (from watson-machine-learning-client) (1.26.11)\n",
      "Requirement already satisfied: tabulate in /Applications/anaconda3/lib/python3.9/site-packages (from watson-machine-learning-client) (0.8.10)\n",
      "Requirement already satisfied: boto3 in /Applications/anaconda3/lib/python3.9/site-packages (from watson-machine-learning-client) (1.24.28)\n",
      "Requirement already satisfied: tqdm in /Applications/anaconda3/lib/python3.9/site-packages (from watson-machine-learning-client) (4.64.1)\n",
      "Collecting lomond\n",
      "  Downloading lomond-0.3.3-py2.py3-none-any.whl (35 kB)\n",
      "Requirement already satisfied: certifi in /Applications/anaconda3/lib/python3.9/site-packages (from watson-machine-learning-client) (2022.9.24)\n",
      "Collecting ibm-cos-sdk\n",
      "  Downloading ibm-cos-sdk-2.12.0.tar.gz (55 kB)\n",
      "\u001b[2K     \u001b[90m━━━━━━━━━━━━━━━━━━━━━━━━━━━━━━━━━━━━━━━\u001b[0m \u001b[32m55.6/55.6 kB\u001b[0m \u001b[31m638.8 kB/s\u001b[0m eta \u001b[36m0:00:00\u001b[0m \u001b[36m0:00:01\u001b[0m\n",
      "\u001b[?25h  Preparing metadata (setup.py) ... \u001b[?25ldone\n",
      "\u001b[?25hRequirement already satisfied: requests in /Applications/anaconda3/lib/python3.9/site-packages (from watson-machine-learning-client) (2.28.1)\n",
      "Requirement already satisfied: pandas in /Applications/anaconda3/lib/python3.9/site-packages (from watson-machine-learning-client) (1.4.4)\n",
      "Requirement already satisfied: jmespath<2.0.0,>=0.7.1 in /Applications/anaconda3/lib/python3.9/site-packages (from boto3->watson-machine-learning-client) (0.10.0)\n",
      "Requirement already satisfied: botocore<1.28.0,>=1.27.28 in /Applications/anaconda3/lib/python3.9/site-packages (from boto3->watson-machine-learning-client) (1.27.28)\n",
      "Requirement already satisfied: s3transfer<0.7.0,>=0.6.0 in /Applications/anaconda3/lib/python3.9/site-packages (from boto3->watson-machine-learning-client) (0.6.0)\n",
      "Collecting ibm-cos-sdk-core==2.12.0\n",
      "  Downloading ibm-cos-sdk-core-2.12.0.tar.gz (956 kB)\n",
      "\u001b[2K     \u001b[90m━━━━━━━━━━━━━━━━━━━━━━━━━━━━━━━━━━━━━━━\u001b[0m \u001b[32m956.8/956.8 kB\u001b[0m \u001b[31m1.4 MB/s\u001b[0m eta \u001b[36m0:00:00\u001b[0m00:01\u001b[0m00:01\u001b[0m\n",
      "\u001b[?25h  Preparing metadata (setup.py) ... \u001b[?25ldone\n",
      "\u001b[?25hCollecting ibm-cos-sdk-s3transfer==2.12.0\n",
      "  Downloading ibm-cos-sdk-s3transfer-2.12.0.tar.gz (135 kB)\n",
      "\u001b[2K     \u001b[90m━━━━━━━━━━━━━━━━━━━━━━━━━━━━━━━━━━━━━━━\u001b[0m \u001b[32m135.7/135.7 kB\u001b[0m \u001b[31m1.4 MB/s\u001b[0m eta \u001b[36m0:00:00\u001b[0m00:01\u001b[0m00:01\u001b[0m\n",
      "\u001b[?25h  Preparing metadata (setup.py) ... \u001b[?25ldone\n",
      "\u001b[?25hRequirement already satisfied: python-dateutil<3.0.0,>=2.8.2 in /Applications/anaconda3/lib/python3.9/site-packages (from ibm-cos-sdk-core==2.12.0->ibm-cos-sdk->watson-machine-learning-client) (2.8.2)\n",
      "Requirement already satisfied: idna<4,>=2.5 in /Applications/anaconda3/lib/python3.9/site-packages (from requests->watson-machine-learning-client) (3.3)\n",
      "Requirement already satisfied: charset-normalizer<3,>=2 in /Applications/anaconda3/lib/python3.9/site-packages (from requests->watson-machine-learning-client) (2.0.4)\n",
      "Requirement already satisfied: six>=1.10.0 in /Applications/anaconda3/lib/python3.9/site-packages (from lomond->watson-machine-learning-client) (1.16.0)\n",
      "Requirement already satisfied: pytz>=2020.1 in /Applications/anaconda3/lib/python3.9/site-packages (from pandas->watson-machine-learning-client) (2022.1)\n",
      "Requirement already satisfied: numpy>=1.18.5 in /Applications/anaconda3/lib/python3.9/site-packages (from pandas->watson-machine-learning-client) (1.21.5)\n",
      "Building wheels for collected packages: ibm-cos-sdk, ibm-cos-sdk-core, ibm-cos-sdk-s3transfer\n",
      "  Building wheel for ibm-cos-sdk (setup.py) ... \u001b[?25ldone\n",
      "\u001b[?25h  Created wheel for ibm-cos-sdk: filename=ibm_cos_sdk-2.12.0-py3-none-any.whl size=73910 sha256=d703601f523a165a7a6ba465178c19839d31e95f9fe4cf8ef05cdd7a745cb791\n",
      "  Stored in directory: /Users/jeyasri/Library/Caches/pip/wheels/31/8c/e6/9bd830e254449a64d3e3c8a79da6fb6bc940a19b165d76c3c2\n",
      "  Building wheel for ibm-cos-sdk-core (setup.py) ... \u001b[?25ldone\n",
      "\u001b[?25h  Created wheel for ibm-cos-sdk-core: filename=ibm_cos_sdk_core-2.12.0-py3-none-any.whl size=562947 sha256=67c27ec3b31890f9579a1bd3a5e5b3e8fe24a5b951438b77142cd39c3a4c4db7\n",
      "  Stored in directory: /Users/jeyasri/Library/Caches/pip/wheels/e4/4c/9e/97ee8774f14cbfb9aa69201a58056b1e1379123dfbdbedc24e\n",
      "  Building wheel for ibm-cos-sdk-s3transfer (setup.py) ... \u001b[?25ldone\n",
      "\u001b[?25h  Created wheel for ibm-cos-sdk-s3transfer: filename=ibm_cos_sdk_s3transfer-2.12.0-py3-none-any.whl size=89765 sha256=5d9ae16eb53398f51a04032a84769d330ded26c43b58bdffaa7a79c2993f226f\n",
      "  Stored in directory: /Users/jeyasri/Library/Caches/pip/wheels/4f/8b/ce/0d93b358521705de3f110de4356db2b820551ea009c865e4bd\n",
      "Successfully built ibm-cos-sdk ibm-cos-sdk-core ibm-cos-sdk-s3transfer\n",
      "Installing collected packages: lomond, ibm-cos-sdk-core, ibm-cos-sdk-s3transfer, ibm-cos-sdk, watson-machine-learning-client\n",
      "Successfully installed ibm-cos-sdk-2.12.0 ibm-cos-sdk-core-2.12.0 ibm-cos-sdk-s3transfer-2.12.0 lomond-0.3.3 watson-machine-learning-client-1.0.391\n"
     ]
    }
   ],
   "source": [
    "!pip install watson-machine-learning-client"
   ]
  },
  {
   "cell_type": "code",
   "execution_count": 28,
   "id": "77255538",
   "metadata": {},
   "outputs": [
    {
     "name": "stdout",
     "output_type": "stream",
     "text": [
      "Collecting ibm_watson_machine_learning\n",
      "  Downloading ibm_watson_machine_learning-1.0.257-py3-none-any.whl (1.8 MB)\n",
      "\u001b[2K     \u001b[90m━━━━━━━━━━━━━━━━━━━━━━━━━━━━━━━━━━━━━━━━\u001b[0m \u001b[32m1.8/1.8 MB\u001b[0m \u001b[31m1.4 MB/s\u001b[0m eta \u001b[36m0:00:00\u001b[0m00:01\u001b[0m00:01\u001b[0m0m\n",
      "\u001b[?25hRequirement already satisfied: urllib3 in /Applications/anaconda3/lib/python3.9/site-packages (from ibm_watson_machine_learning) (1.26.11)\n",
      "Requirement already satisfied: requests in /Applications/anaconda3/lib/python3.9/site-packages (from ibm_watson_machine_learning) (2.28.1)\n",
      "Requirement already satisfied: pandas<1.5.0,>=0.24.2 in /Applications/anaconda3/lib/python3.9/site-packages (from ibm_watson_machine_learning) (1.4.4)\n",
      "Collecting ibm-cos-sdk==2.11.*\n",
      "  Downloading ibm-cos-sdk-2.11.0.tar.gz (53 kB)\n",
      "\u001b[2K     \u001b[90m━━━━━━━━━━━━━━━━━━━━━━━━━━━━━━━━━━━━━━━\u001b[0m \u001b[32m53.3/53.3 kB\u001b[0m \u001b[31m840.7 kB/s\u001b[0m eta \u001b[36m0:00:00\u001b[0m \u001b[36m0:00:01\u001b[0m\n",
      "\u001b[?25h  Preparing metadata (setup.py) ... \u001b[?25ldone\n",
      "\u001b[?25hRequirement already satisfied: packaging in /Applications/anaconda3/lib/python3.9/site-packages (from ibm_watson_machine_learning) (21.3)\n",
      "Requirement already satisfied: certifi in /Applications/anaconda3/lib/python3.9/site-packages (from ibm_watson_machine_learning) (2022.9.24)\n",
      "Requirement already satisfied: lomond in /Applications/anaconda3/lib/python3.9/site-packages (from ibm_watson_machine_learning) (0.3.3)\n",
      "Requirement already satisfied: importlib-metadata in /Applications/anaconda3/lib/python3.9/site-packages (from ibm_watson_machine_learning) (4.11.3)\n",
      "Requirement already satisfied: tabulate in /Applications/anaconda3/lib/python3.9/site-packages (from ibm_watson_machine_learning) (0.8.10)\n",
      "Collecting ibm-cos-sdk-core==2.11.0\n",
      "  Downloading ibm-cos-sdk-core-2.11.0.tar.gz (913 kB)\n",
      "\u001b[2K     \u001b[90m━━━━━━━━━━━━━━━━━━━━━━━━━━━━━━━━━━━━━━━\u001b[0m \u001b[32m913.9/913.9 kB\u001b[0m \u001b[31m1.2 MB/s\u001b[0m eta \u001b[36m0:00:00\u001b[0m00:01\u001b[0m00:01\u001b[0m\n",
      "\u001b[?25h  Preparing metadata (setup.py) ... \u001b[?25ldone\n",
      "\u001b[?25hCollecting ibm-cos-sdk-s3transfer==2.11.0\n",
      "  Downloading ibm-cos-sdk-s3transfer-2.11.0.tar.gz (135 kB)\n",
      "\u001b[2K     \u001b[90m━━━━━━━━━━━━━━━━━━━━━━━━━━━━━━━━━━━━━━━\u001b[0m \u001b[32m135.6/135.6 kB\u001b[0m \u001b[31m1.5 MB/s\u001b[0m eta \u001b[36m0:00:00\u001b[0m00:01\u001b[0m00:01\u001b[0m\n",
      "\u001b[?25h  Preparing metadata (setup.py) ... \u001b[?25ldone\n",
      "\u001b[?25hRequirement already satisfied: jmespath<1.0.0,>=0.7.1 in /Applications/anaconda3/lib/python3.9/site-packages (from ibm-cos-sdk==2.11.*->ibm_watson_machine_learning) (0.10.0)\n",
      "Requirement already satisfied: python-dateutil<3.0.0,>=2.1 in /Applications/anaconda3/lib/python3.9/site-packages (from ibm-cos-sdk-core==2.11.0->ibm-cos-sdk==2.11.*->ibm_watson_machine_learning) (2.8.2)\n",
      "Requirement already satisfied: pytz>=2020.1 in /Applications/anaconda3/lib/python3.9/site-packages (from pandas<1.5.0,>=0.24.2->ibm_watson_machine_learning) (2022.1)\n",
      "Requirement already satisfied: numpy>=1.18.5 in /Applications/anaconda3/lib/python3.9/site-packages (from pandas<1.5.0,>=0.24.2->ibm_watson_machine_learning) (1.21.5)\n",
      "Requirement already satisfied: idna<4,>=2.5 in /Applications/anaconda3/lib/python3.9/site-packages (from requests->ibm_watson_machine_learning) (3.3)\n",
      "Requirement already satisfied: charset-normalizer<3,>=2 in /Applications/anaconda3/lib/python3.9/site-packages (from requests->ibm_watson_machine_learning) (2.0.4)\n",
      "Requirement already satisfied: zipp>=0.5 in /Applications/anaconda3/lib/python3.9/site-packages (from importlib-metadata->ibm_watson_machine_learning) (3.8.0)\n",
      "Requirement already satisfied: six>=1.10.0 in /Applications/anaconda3/lib/python3.9/site-packages (from lomond->ibm_watson_machine_learning) (1.16.0)\n",
      "Requirement already satisfied: pyparsing!=3.0.5,>=2.0.2 in /Applications/anaconda3/lib/python3.9/site-packages (from packaging->ibm_watson_machine_learning) (3.0.9)\n",
      "Building wheels for collected packages: ibm-cos-sdk, ibm-cos-sdk-core, ibm-cos-sdk-s3transfer\n",
      "  Building wheel for ibm-cos-sdk (setup.py) ... \u001b[?25ldone\n",
      "\u001b[?25h  Created wheel for ibm-cos-sdk: filename=ibm_cos_sdk-2.11.0-py3-none-any.whl size=73641 sha256=34bf35b6ff7783bf3e2b86a58c9fc5c95d31a6e41b1c8aae31fccb55440a0b04\n",
      "  Stored in directory: /Users/jeyasri/Library/Caches/pip/wheels/d3/a5/34/52d2e378d3d0446989ebcd214af8bad55beecf905258852b9f\n",
      "  Building wheel for ibm-cos-sdk-core (setup.py) ... \u001b[?25ldone\n",
      "\u001b[?25h  Created wheel for ibm-cos-sdk-core: filename=ibm_cos_sdk_core-2.11.0-py3-none-any.whl size=536333 sha256=4fc5fc97ca512fec71b59e807965c6c52536e275c059e875fc0eb62a1c22b7c3\n",
      "  Stored in directory: /Users/jeyasri/Library/Caches/pip/wheels/ed/a7/cd/32a2cf8bae11ba6fc56451b7c46608cfd9176d1da8c6f73fa1\n",
      "  Building wheel for ibm-cos-sdk-s3transfer (setup.py) ... \u001b[?25ldone\n",
      "\u001b[?25h  Created wheel for ibm-cos-sdk-s3transfer: filename=ibm_cos_sdk_s3transfer-2.11.0-py3-none-any.whl size=89471 sha256=39f64f05f2b083a64228d43d197cfe003cec8dab3c122a091aa836bdf1cc6dee\n",
      "  Stored in directory: /Users/jeyasri/Library/Caches/pip/wheels/4a/3f/7c/551692188f14bdb095e715dd7f1061fec13b3766d45f3c3296\n",
      "Successfully built ibm-cos-sdk ibm-cos-sdk-core ibm-cos-sdk-s3transfer\n",
      "Installing collected packages: ibm-cos-sdk-core, ibm-cos-sdk-s3transfer, ibm-cos-sdk, ibm_watson_machine_learning\n",
      "  Attempting uninstall: ibm-cos-sdk-core\n",
      "    Found existing installation: ibm-cos-sdk-core 2.12.0\n",
      "    Uninstalling ibm-cos-sdk-core-2.12.0:\n",
      "      Successfully uninstalled ibm-cos-sdk-core-2.12.0\n",
      "  Attempting uninstall: ibm-cos-sdk-s3transfer\n",
      "    Found existing installation: ibm-cos-sdk-s3transfer 2.12.0\n",
      "    Uninstalling ibm-cos-sdk-s3transfer-2.12.0:\n",
      "      Successfully uninstalled ibm-cos-sdk-s3transfer-2.12.0\n",
      "  Attempting uninstall: ibm-cos-sdk\n",
      "    Found existing installation: ibm-cos-sdk 2.12.0\n",
      "    Uninstalling ibm-cos-sdk-2.12.0:\n",
      "      Successfully uninstalled ibm-cos-sdk-2.12.0\n",
      "Successfully installed ibm-cos-sdk-2.11.0 ibm-cos-sdk-core-2.11.0 ibm-cos-sdk-s3transfer-2.11.0 ibm_watson_machine_learning-1.0.257\n"
     ]
    }
   ],
   "source": [
    "!pip install ibm_watson_machine_learning"
   ]
  },
  {
   "cell_type": "code",
   "execution_count": 29,
   "id": "78314fe0",
   "metadata": {},
   "outputs": [
    {
     "data": {
      "text/plain": [
       "<ibm_watson_machine_learning.client.APIClient at 0x7f8f23f7c790>"
      ]
     },
     "execution_count": 29,
     "metadata": {},
     "output_type": "execute_result"
    }
   ],
   "source": [
    "from ibm_watson_machine_learning import APIClient\n",
    "\n",
    "wml_credentials = {\n",
    "                   \"url\": \"https://us-south.ml.cloud.ibm.com\",  # example: \"https://eu-gb.ml.cloud.ibm.com\"\n",
    "                   \"apikey\":\"Dt-EkyRgxXR--1mhO8JnCjRGR_AvzoUpJQqbzFnWklU1\"\n",
    "                  }\n",
    "\n",
    "client = APIClient(wml_credentials)\n",
    "client"
   ]
  },
  {
   "cell_type": "code",
   "execution_count": 30,
   "id": "75a0da0f",
   "metadata": {},
   "outputs": [
    {
     "data": {
      "text/plain": [
       "{'resources': [{'entity': {'compute': [{'crn': 'crn:v1:bluemix:public:pm-20:us-south:a/d74a81b5072a47ea932088f3c95b3d8d:ab0faf12-e097-475c-b555-79f9a13b440d::',\n",
       "      'guid': 'ab0faf12-e097-475c-b555-79f9a13b440d',\n",
       "      'name': 'Watson Machine Learning-lz',\n",
       "      'type': 'machine_learning'}],\n",
       "    'description': '',\n",
       "    'name': 'digit_deploy',\n",
       "    'scope': {'bss_account_id': 'd74a81b5072a47ea932088f3c95b3d8d'},\n",
       "    'stage': {'production': False},\n",
       "    'status': {'state': 'active'},\n",
       "    'storage': {'properties': {'bucket_name': 'dede02b9-9740-4319-881c-f10ec6202dce',\n",
       "      'bucket_region': 'us-south',\n",
       "      'credentials': {'admin': {'access_key_id': '9bfe67bd39f14cf5a8666e6188b02143',\n",
       "        'api_key': '50PMGAm3eSnX_G1VpNG6_XJkwa-veWNCSyyru5ksZsWB',\n",
       "        'secret_access_key': 'b63dd4e1b1ecefdbdb32478174a66d411cd7a98519c8565b',\n",
       "        'service_id': 'ServiceId-cf7956f9-5d6e-4fde-9bf9-c2d7d324d3d3'},\n",
       "       'editor': {'access_key_id': '9e76c7cc5b2c438396b834aaeda87df4',\n",
       "        'api_key': 'EzZkGCey-46EuCVz3IztC8mnBFtuaD40Srufvm_hFBUz',\n",
       "        'resource_key_crn': 'crn:v1:bluemix:public:cloud-object-storage:global:a/d74a81b5072a47ea932088f3c95b3d8d:b81cecb9-1689-4f8e-87d7-c70c72300b4e::',\n",
       "        'secret_access_key': '00cbee74cb48d75ca43d688108297703eea7ec26903a04cd',\n",
       "        'service_id': 'ServiceId-725da56e-c4c0-4ecb-9d36-ea58872bbcf3'},\n",
       "       'viewer': {'access_key_id': '238ea99d20354b55b78c557fdb973972',\n",
       "        'api_key': 'im-71co9LWBLEb295LCJlWx4AOejZgzJAxpq1SB9P5N9',\n",
       "        'resource_key_crn': 'crn:v1:bluemix:public:cloud-object-storage:global:a/d74a81b5072a47ea932088f3c95b3d8d:b81cecb9-1689-4f8e-87d7-c70c72300b4e::',\n",
       "        'secret_access_key': 'e3ca34240ce3757c166469ac364c6df4e20f464cbbad5d7a',\n",
       "        'service_id': 'ServiceId-ca7069ff-0f0b-479e-af7f-4127e8cd1703'}},\n",
       "      'endpoint_url': 'https://s3.us-south.cloud-object-storage.appdomain.cloud',\n",
       "      'guid': 'b81cecb9-1689-4f8e-87d7-c70c72300b4e',\n",
       "      'resource_crn': 'crn:v1:bluemix:public:cloud-object-storage:global:a/d74a81b5072a47ea932088f3c95b3d8d:b81cecb9-1689-4f8e-87d7-c70c72300b4e::'},\n",
       "     'type': 'bmcos_object_storage'}},\n",
       "   'metadata': {'created_at': '2022-11-13T07:31:19.376Z',\n",
       "    'creator_id': 'IBMid-666002J5U4',\n",
       "    'id': '0d542d58-0e93-4b26-a2c6-156ce46c2f36',\n",
       "    'updated_at': '2022-11-13T07:31:32.819Z',\n",
       "    'url': '/v2/spaces/0d542d58-0e93-4b26-a2c6-156ce46c2f36'}}]}"
      ]
     },
     "execution_count": 30,
     "metadata": {},
     "output_type": "execute_result"
    }
   ],
   "source": [
    "client.spaces.get_details()"
   ]
  },
  {
   "cell_type": "code",
   "execution_count": 31,
   "id": "1e5b94af",
   "metadata": {},
   "outputs": [],
   "source": [
    "def guid_space_name(client,digit_deploy):\n",
    "    space = client.spaces.get_details()\n",
    "    return(next(item for item in space['resources'] if item['entity']['name']==digit_deploy)['metadata']['id'])"
   ]
  },
  {
   "cell_type": "code",
   "execution_count": 32,
   "id": "b8554df2",
   "metadata": {},
   "outputs": [
    {
     "data": {
      "text/plain": [
       "'0d542d58-0e93-4b26-a2c6-156ce46c2f36'"
      ]
     },
     "execution_count": 32,
     "metadata": {},
     "output_type": "execute_result"
    }
   ],
   "source": [
    "space_uid = guid_space_name(client,'digit_deploy')\n",
    "space_uid"
   ]
  },
  {
   "cell_type": "code",
   "execution_count": 33,
   "id": "79f176f7",
   "metadata": {},
   "outputs": [
    {
     "data": {
      "text/plain": [
       "'SUCCESS'"
      ]
     },
     "execution_count": 33,
     "metadata": {},
     "output_type": "execute_result"
    }
   ],
   "source": [
    "client.set.default_space(space_uid)"
   ]
  },
  {
   "cell_type": "code",
   "execution_count": 34,
   "id": "bdd20ec0",
   "metadata": {},
   "outputs": [
    {
     "name": "stdout",
     "output_type": "stream",
     "text": [
      "-----------------------------  ------------------------------------  ----\n",
      "NAME                           ASSET_ID                              TYPE\n",
      "default_py3.6                  0062b8c9-8b7d-44a0-a9b9-46c416adcbd9  base\n",
      "kernel-spark3.2-scala2.12      020d69ce-7ac1-5e68-ac1a-31189867356a  base\n",
      "pytorch-onnx_1.3-py3.7-edt     069ea134-3346-5748-b513-49120e15d288  base\n",
      "scikit-learn_0.20-py3.6        09c5a1d0-9c1e-4473-a344-eb7b665ff687  base\n",
      "spark-mllib_3.0-scala_2.12     09f4cff0-90a7-5899-b9ed-1ef348aebdee  base\n",
      "pytorch-onnx_rt22.1-py3.9      0b848dd4-e681-5599-be41-b5f6fccc6471  base\n",
      "ai-function_0.1-py3.6          0cdb0f1e-5376-4f4d-92dd-da3b69aa9bda  base\n",
      "shiny-r3.6                     0e6e79df-875e-4f24-8ae9-62dcc2148306  base\n",
      "tensorflow_2.4-py3.7-horovod   1092590a-307d-563d-9b62-4eb7d64b3f22  base\n",
      "pytorch_1.1-py3.6              10ac12d6-6b30-4ccd-8392-3e922c096a92  base\n",
      "tensorflow_1.15-py3.6-ddl      111e41b3-de2d-5422-a4d6-bf776828c4b7  base\n",
      "autoai-kb_rt22.2-py3.10        125b6d9a-5b1f-5e8d-972a-b251688ccf40  base\n",
      "runtime-22.1-py3.9             12b83a17-24d8-5082-900f-0ab31fbfd3cb  base\n",
      "scikit-learn_0.22-py3.6        154010fa-5b3b-4ac1-82af-4d5ee5abbc85  base\n",
      "default_r3.6                   1b70aec3-ab34-4b87-8aa0-a4a3c8296a36  base\n",
      "pytorch-onnx_1.3-py3.6         1bc6029a-cc97-56da-b8e0-39c3880dbbe7  base\n",
      "kernel-spark3.3-r3.6           1c9e5454-f216-59dd-a20e-474a5cdf5988  base\n",
      "pytorch-onnx_rt22.1-py3.9-edt  1d362186-7ad5-5b59-8b6c-9d0880bde37f  base\n",
      "tensorflow_2.1-py3.6           1eb25b84-d6ed-5dde-b6a5-3fbdf1665666  base\n",
      "spark-mllib_3.2                20047f72-0a98-58c7-9ff5-a77b012eb8f5  base\n",
      "tensorflow_2.4-py3.8-horovod   217c16f6-178f-56bf-824a-b19f20564c49  base\n",
      "runtime-22.1-py3.9-cuda        26215f05-08c3-5a41-a1b0-da66306ce658  base\n",
      "do_py3.8                       295addb5-9ef9-547e-9bf4-92ae3563e720  base\n",
      "autoai-ts_3.8-py3.8            2aa0c932-798f-5ae9-abd6-15e0c2402fb5  base\n",
      "tensorflow_1.15-py3.6          2b73a275-7cbf-420b-a912-eae7f436e0bc  base\n",
      "kernel-spark3.3-py3.9          2b7961e2-e3b1-5a8c-a491-482c8368839a  base\n",
      "pytorch_1.2-py3.6              2c8ef57d-2687-4b7d-acce-01f94976dac1  base\n",
      "spark-mllib_2.3                2e51f700-bca0-4b0d-88dc-5c6791338875  base\n",
      "pytorch-onnx_1.1-py3.6-edt     32983cea-3f32-4400-8965-dde874a8d67e  base\n",
      "spark-mllib_3.0-py37           36507ebe-8770-55ba-ab2a-eafe787600e9  base\n",
      "spark-mllib_2.4                390d21f8-e58b-4fac-9c55-d7ceda621326  base\n",
      "autoai-ts_rt22.2-py3.10        396b2e83-0953-5b86-9a55-7ce1628a406f  base\n",
      "xgboost_0.82-py3.6             39e31acd-5f30-41dc-ae44-60233c80306e  base\n",
      "pytorch-onnx_1.2-py3.6-edt     40589d0e-7019-4e28-8daa-fb03b6f4fe12  base\n",
      "pytorch-onnx_rt22.2-py3.10     40e73f55-783a-5535-b3fa-0c8b94291431  base\n",
      "default_r36py38                41c247d3-45f8-5a71-b065-8580229facf0  base\n",
      "autoai-ts_rt22.1-py3.9         4269d26e-07ba-5d40-8f66-2d495b0c71f7  base\n",
      "autoai-obm_3.0                 42b92e18-d9ab-567f-988a-4240ba1ed5f7  base\n",
      "pmml-3.0_4.3                   493bcb95-16f1-5bc5-bee8-81b8af80e9c7  base\n",
      "spark-mllib_2.4-r_3.6          49403dff-92e9-4c87-a3d7-a42d0021c095  base\n",
      "xgboost_0.90-py3.6             4ff8d6c2-1343-4c18-85e1-689c965304d3  base\n",
      "pytorch-onnx_1.1-py3.6         50f95b2a-bc16-43bb-bc94-b0bed208c60b  base\n",
      "autoai-ts_3.9-py3.8            52c57136-80fa-572e-8728-a5e7cbb42cde  base\n",
      "spark-mllib_2.4-scala_2.11     55a70f99-7320-4be5-9fb9-9edb5a443af5  base\n",
      "spark-mllib_3.0                5c1b0ca2-4977-5c2e-9439-ffd44ea8ffe9  base\n",
      "autoai-obm_2.0                 5c2e37fa-80b8-5e77-840f-d912469614ee  base\n",
      "spss-modeler_18.1              5c3cad7e-507f-4b2a-a9a3-ab53a21dee8b  base\n",
      "cuda-py3.8                     5d3232bf-c86b-5df4-a2cd-7bb870a1cd4e  base\n",
      "runtime-22.2-py3.10-xc         5e8cddff-db4a-5a6a-b8aa-2d4af9864dab  base\n",
      "autoai-kb_3.1-py3.7            632d4b22-10aa-5180-88f0-f52dfb6444d7  base\n",
      "-----------------------------  ------------------------------------  ----\n",
      "Note: Only first 50 records were displayed. To display more use 'limit' parameter.\n"
     ]
    }
   ],
   "source": [
    "client.software_specifications.list()"
   ]
  },
  {
   "cell_type": "code",
   "execution_count": 35,
   "id": "a4c5cce3",
   "metadata": {},
   "outputs": [
    {
     "data": {
      "text/plain": [
       "'acd9c798-6974-5d2f-a657-ce06e986df4d'"
      ]
     },
     "execution_count": 35,
     "metadata": {},
     "output_type": "execute_result"
    }
   ],
   "source": [
    "software_space_uid = client.software_specifications.get_uid_by_name('tensorflow_rt22.1-py3.9')\n",
    "software_space_uid"
   ]
  },
  {
   "cell_type": "code",
   "execution_count": 36,
   "id": "09851cf1",
   "metadata": {},
   "outputs": [],
   "source": [
    "model_details = client.repository.store_model(model='digit_recognition.tgz',meta_props={\n",
    "    client.repository.ModelMetaNames.NAME:\"DigitRecognition Model\",\n",
    "    client.repository.ModelMetaNames.TYPE:\"tensorflow_2.7\",\n",
    "    client.repository.ModelMetaNames.SOFTWARE_SPEC_UID:software_space_uid\n",
    "})"
   ]
  },
  {
   "cell_type": "code",
   "execution_count": 37,
   "id": "87568312",
   "metadata": {},
   "outputs": [
    {
     "data": {
      "text/plain": [
       "{'entity': {'hybrid_pipeline_software_specs': [],\n",
       "  'software_spec': {'id': 'acd9c798-6974-5d2f-a657-ce06e986df4d',\n",
       "   'name': 'tensorflow_rt22.1-py3.9'},\n",
       "  'type': 'tensorflow_2.7'},\n",
       " 'metadata': {'created_at': '2022-11-19T17:58:10.329Z',\n",
       "  'id': '97cb2b39-47b9-4c5f-aaf9-da8bd8ff3beb',\n",
       "  'modified_at': '2022-11-19T17:58:16.635Z',\n",
       "  'name': 'DigitRecognition Model',\n",
       "  'owner': 'IBMid-666002J5U4',\n",
       "  'resource_key': 'dd5de67d-e73b-45ab-b616-509638cd5fed',\n",
       "  'space_id': '0d542d58-0e93-4b26-a2c6-156ce46c2f36'},\n",
       " 'system': {'warnings': []}}"
      ]
     },
     "execution_count": 37,
     "metadata": {},
     "output_type": "execute_result"
    }
   ],
   "source": [
    "model_details"
   ]
  },
  {
   "cell_type": "code",
   "execution_count": 38,
   "id": "e449d995",
   "metadata": {},
   "outputs": [
    {
     "data": {
      "text/plain": [
       "'97cb2b39-47b9-4c5f-aaf9-da8bd8ff3beb'"
      ]
     },
     "execution_count": 38,
     "metadata": {},
     "output_type": "execute_result"
    }
   ],
   "source": [
    "model_id = client.repository.get_model_id(model_details)\n",
    "model_id"
   ]
  },
  {
   "cell_type": "code",
   "execution_count": 39,
   "id": "eb65ee81",
   "metadata": {},
   "outputs": [
    {
     "name": "stdout",
     "output_type": "stream",
     "text": [
      "Successfully saved model content to file: 'Digit_Recognition_Model.tar.gb'\n"
     ]
    },
    {
     "data": {
      "text/plain": [
       "'/Users/jeyasri/Digit_Recognition_Model.tar.gb'"
      ]
     },
     "execution_count": 39,
     "metadata": {},
     "output_type": "execute_result"
    }
   ],
   "source": [
    "client.repository.download(model_id,'Digit_Recognition_Model.tar.gb')"
   ]
  },
  {
   "cell_type": "code",
   "execution_count": null,
   "id": "fdf232dd",
   "metadata": {},
   "outputs": [],
   "source": []
  }
 ],
 "metadata": {
  "kernelspec": {
   "display_name": "Python 3 (ipykernel)",
   "language": "python",
   "name": "python3"
  },
  "language_info": {
   "codemirror_mode": {
    "name": "ipython",
    "version": 3
   },
   "file_extension": ".py",
   "mimetype": "text/x-python",
   "name": "python",
   "nbconvert_exporter": "python",
   "pygments_lexer": "ipython3",
   "version": "3.9.13"
  }
 },
 "nbformat": 4,
 "nbformat_minor": 5
}
